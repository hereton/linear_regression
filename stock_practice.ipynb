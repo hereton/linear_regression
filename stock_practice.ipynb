{
 "cells": [
  {
   "cell_type": "code",
   "execution_count": 371,
   "metadata": {},
   "outputs": [],
   "source": [
    "import numpy as np\n",
    "import pandas as pd\n",
    "from pandas_datareader import data as wb\n",
    "import matplotlib.pyplot as plt\n",
    "import math\n",
    "import datetime"
   ]
  },
  {
   "cell_type": "code",
   "execution_count": 372,
   "metadata": {},
   "outputs": [
    {
     "data": {
      "text/html": [
       "<div>\n",
       "<style scoped>\n",
       "    .dataframe tbody tr th:only-of-type {\n",
       "        vertical-align: middle;\n",
       "    }\n",
       "\n",
       "    .dataframe tbody tr th {\n",
       "        vertical-align: top;\n",
       "    }\n",
       "\n",
       "    .dataframe thead th {\n",
       "        text-align: right;\n",
       "    }\n",
       "</style>\n",
       "<table border=\"1\" class=\"dataframe\">\n",
       "  <thead>\n",
       "    <tr style=\"text-align: right;\">\n",
       "      <th>Symbols</th>\n",
       "      <th>Date</th>\n",
       "      <th>PTT.BK</th>\n",
       "    </tr>\n",
       "  </thead>\n",
       "  <tbody>\n",
       "    <tr>\n",
       "      <th>0</th>\n",
       "      <td>2018-10-04</td>\n",
       "      <td>52.214817</td>\n",
       "    </tr>\n",
       "    <tr>\n",
       "      <th>1</th>\n",
       "      <td>2018-10-05</td>\n",
       "      <td>51.722225</td>\n",
       "    </tr>\n",
       "    <tr>\n",
       "      <th>2</th>\n",
       "      <td>2018-10-08</td>\n",
       "      <td>50.983334</td>\n",
       "    </tr>\n",
       "    <tr>\n",
       "      <th>3</th>\n",
       "      <td>2018-10-09</td>\n",
       "      <td>51.475925</td>\n",
       "    </tr>\n",
       "    <tr>\n",
       "      <th>4</th>\n",
       "      <td>2018-10-10</td>\n",
       "      <td>53.200001</td>\n",
       "    </tr>\n",
       "    <tr>\n",
       "      <th>5</th>\n",
       "      <td>2018-10-11</td>\n",
       "      <td>51.000000</td>\n",
       "    </tr>\n",
       "    <tr>\n",
       "      <th>6</th>\n",
       "      <td>2018-10-12</td>\n",
       "      <td>51.500000</td>\n",
       "    </tr>\n",
       "    <tr>\n",
       "      <th>7</th>\n",
       "      <td>2018-10-16</td>\n",
       "      <td>51.000000</td>\n",
       "    </tr>\n",
       "    <tr>\n",
       "      <th>8</th>\n",
       "      <td>2018-10-17</td>\n",
       "      <td>51.000000</td>\n",
       "    </tr>\n",
       "    <tr>\n",
       "      <th>9</th>\n",
       "      <td>2018-10-18</td>\n",
       "      <td>51.000000</td>\n",
       "    </tr>\n",
       "    <tr>\n",
       "      <th>10</th>\n",
       "      <td>2018-10-19</td>\n",
       "      <td>50.500000</td>\n",
       "    </tr>\n",
       "    <tr>\n",
       "      <th>11</th>\n",
       "      <td>2018-10-22</td>\n",
       "      <td>50.250000</td>\n",
       "    </tr>\n",
       "    <tr>\n",
       "      <th>12</th>\n",
       "      <td>2018-10-24</td>\n",
       "      <td>48.500000</td>\n",
       "    </tr>\n",
       "    <tr>\n",
       "      <th>13</th>\n",
       "      <td>2018-10-25</td>\n",
       "      <td>49.500000</td>\n",
       "    </tr>\n",
       "    <tr>\n",
       "      <th>14</th>\n",
       "      <td>2018-10-26</td>\n",
       "      <td>48.250000</td>\n",
       "    </tr>\n",
       "    <tr>\n",
       "      <th>15</th>\n",
       "      <td>2018-10-29</td>\n",
       "      <td>48.750000</td>\n",
       "    </tr>\n",
       "    <tr>\n",
       "      <th>16</th>\n",
       "      <td>2018-10-30</td>\n",
       "      <td>49.250000</td>\n",
       "    </tr>\n",
       "    <tr>\n",
       "      <th>17</th>\n",
       "      <td>2018-10-31</td>\n",
       "      <td>51.000000</td>\n",
       "    </tr>\n",
       "    <tr>\n",
       "      <th>18</th>\n",
       "      <td>2018-11-01</td>\n",
       "      <td>49.500000</td>\n",
       "    </tr>\n",
       "    <tr>\n",
       "      <th>19</th>\n",
       "      <td>2018-11-02</td>\n",
       "      <td>49.750000</td>\n",
       "    </tr>\n",
       "    <tr>\n",
       "      <th>20</th>\n",
       "      <td>2018-11-05</td>\n",
       "      <td>49.250000</td>\n",
       "    </tr>\n",
       "    <tr>\n",
       "      <th>21</th>\n",
       "      <td>2018-11-06</td>\n",
       "      <td>49.750000</td>\n",
       "    </tr>\n",
       "    <tr>\n",
       "      <th>22</th>\n",
       "      <td>2018-11-07</td>\n",
       "      <td>50.250000</td>\n",
       "    </tr>\n",
       "    <tr>\n",
       "      <th>23</th>\n",
       "      <td>2018-11-08</td>\n",
       "      <td>50.750000</td>\n",
       "    </tr>\n",
       "    <tr>\n",
       "      <th>24</th>\n",
       "      <td>2018-11-09</td>\n",
       "      <td>49.750000</td>\n",
       "    </tr>\n",
       "    <tr>\n",
       "      <th>25</th>\n",
       "      <td>2018-11-12</td>\n",
       "      <td>49.750000</td>\n",
       "    </tr>\n",
       "    <tr>\n",
       "      <th>26</th>\n",
       "      <td>2018-11-13</td>\n",
       "      <td>50.000000</td>\n",
       "    </tr>\n",
       "    <tr>\n",
       "      <th>27</th>\n",
       "      <td>2018-11-14</td>\n",
       "      <td>49.000000</td>\n",
       "    </tr>\n",
       "    <tr>\n",
       "      <th>28</th>\n",
       "      <td>2018-11-15</td>\n",
       "      <td>48.750000</td>\n",
       "    </tr>\n",
       "    <tr>\n",
       "      <th>29</th>\n",
       "      <td>2018-11-16</td>\n",
       "      <td>48.750000</td>\n",
       "    </tr>\n",
       "    <tr>\n",
       "      <th>...</th>\n",
       "      <td>...</td>\n",
       "      <td>...</td>\n",
       "    </tr>\n",
       "    <tr>\n",
       "      <th>61</th>\n",
       "      <td>2019-01-07</td>\n",
       "      <td>48.000000</td>\n",
       "    </tr>\n",
       "    <tr>\n",
       "      <th>62</th>\n",
       "      <td>2019-01-08</td>\n",
       "      <td>48.000000</td>\n",
       "    </tr>\n",
       "    <tr>\n",
       "      <th>63</th>\n",
       "      <td>2019-01-09</td>\n",
       "      <td>48.250000</td>\n",
       "    </tr>\n",
       "    <tr>\n",
       "      <th>64</th>\n",
       "      <td>2019-01-10</td>\n",
       "      <td>48.750000</td>\n",
       "    </tr>\n",
       "    <tr>\n",
       "      <th>65</th>\n",
       "      <td>2019-01-11</td>\n",
       "      <td>49.250000</td>\n",
       "    </tr>\n",
       "    <tr>\n",
       "      <th>66</th>\n",
       "      <td>2019-01-14</td>\n",
       "      <td>48.000000</td>\n",
       "    </tr>\n",
       "    <tr>\n",
       "      <th>67</th>\n",
       "      <td>2019-01-15</td>\n",
       "      <td>47.750000</td>\n",
       "    </tr>\n",
       "    <tr>\n",
       "      <th>68</th>\n",
       "      <td>2019-01-16</td>\n",
       "      <td>47.500000</td>\n",
       "    </tr>\n",
       "    <tr>\n",
       "      <th>69</th>\n",
       "      <td>2019-01-17</td>\n",
       "      <td>47.250000</td>\n",
       "    </tr>\n",
       "    <tr>\n",
       "      <th>70</th>\n",
       "      <td>2019-01-18</td>\n",
       "      <td>48.250000</td>\n",
       "    </tr>\n",
       "    <tr>\n",
       "      <th>71</th>\n",
       "      <td>2019-01-21</td>\n",
       "      <td>48.750000</td>\n",
       "    </tr>\n",
       "    <tr>\n",
       "      <th>72</th>\n",
       "      <td>2019-01-22</td>\n",
       "      <td>49.500000</td>\n",
       "    </tr>\n",
       "    <tr>\n",
       "      <th>73</th>\n",
       "      <td>2019-01-23</td>\n",
       "      <td>49.500000</td>\n",
       "    </tr>\n",
       "    <tr>\n",
       "      <th>74</th>\n",
       "      <td>2019-01-24</td>\n",
       "      <td>49.000000</td>\n",
       "    </tr>\n",
       "    <tr>\n",
       "      <th>75</th>\n",
       "      <td>2019-01-25</td>\n",
       "      <td>48.750000</td>\n",
       "    </tr>\n",
       "    <tr>\n",
       "      <th>76</th>\n",
       "      <td>2019-01-28</td>\n",
       "      <td>48.750000</td>\n",
       "    </tr>\n",
       "    <tr>\n",
       "      <th>77</th>\n",
       "      <td>2019-01-29</td>\n",
       "      <td>48.250000</td>\n",
       "    </tr>\n",
       "    <tr>\n",
       "      <th>78</th>\n",
       "      <td>2019-01-30</td>\n",
       "      <td>48.250000</td>\n",
       "    </tr>\n",
       "    <tr>\n",
       "      <th>79</th>\n",
       "      <td>2019-01-31</td>\n",
       "      <td>48.500000</td>\n",
       "    </tr>\n",
       "    <tr>\n",
       "      <th>80</th>\n",
       "      <td>2019-02-01</td>\n",
       "      <td>49.500000</td>\n",
       "    </tr>\n",
       "    <tr>\n",
       "      <th>81</th>\n",
       "      <td>2019-02-04</td>\n",
       "      <td>49.250000</td>\n",
       "    </tr>\n",
       "    <tr>\n",
       "      <th>82</th>\n",
       "      <td>2019-02-05</td>\n",
       "      <td>49.250000</td>\n",
       "    </tr>\n",
       "    <tr>\n",
       "      <th>83</th>\n",
       "      <td>2019-02-06</td>\n",
       "      <td>48.750000</td>\n",
       "    </tr>\n",
       "    <tr>\n",
       "      <th>84</th>\n",
       "      <td>2019-02-07</td>\n",
       "      <td>49.000000</td>\n",
       "    </tr>\n",
       "    <tr>\n",
       "      <th>85</th>\n",
       "      <td>2019-02-08</td>\n",
       "      <td>48.500000</td>\n",
       "    </tr>\n",
       "    <tr>\n",
       "      <th>86</th>\n",
       "      <td>2019-02-11</td>\n",
       "      <td>48.250000</td>\n",
       "    </tr>\n",
       "    <tr>\n",
       "      <th>87</th>\n",
       "      <td>2019-02-12</td>\n",
       "      <td>48.500000</td>\n",
       "    </tr>\n",
       "    <tr>\n",
       "      <th>88</th>\n",
       "      <td>2019-02-13</td>\n",
       "      <td>49.000000</td>\n",
       "    </tr>\n",
       "    <tr>\n",
       "      <th>89</th>\n",
       "      <td>2019-02-14</td>\n",
       "      <td>48.250000</td>\n",
       "    </tr>\n",
       "    <tr>\n",
       "      <th>90</th>\n",
       "      <td>2019-02-15</td>\n",
       "      <td>48.250000</td>\n",
       "    </tr>\n",
       "  </tbody>\n",
       "</table>\n",
       "<p>91 rows × 2 columns</p>\n",
       "</div>"
      ],
      "text/plain": [
       "Symbols       Date     PTT.BK\n",
       "0       2018-10-04  52.214817\n",
       "1       2018-10-05  51.722225\n",
       "2       2018-10-08  50.983334\n",
       "3       2018-10-09  51.475925\n",
       "4       2018-10-10  53.200001\n",
       "5       2018-10-11  51.000000\n",
       "6       2018-10-12  51.500000\n",
       "7       2018-10-16  51.000000\n",
       "8       2018-10-17  51.000000\n",
       "9       2018-10-18  51.000000\n",
       "10      2018-10-19  50.500000\n",
       "11      2018-10-22  50.250000\n",
       "12      2018-10-24  48.500000\n",
       "13      2018-10-25  49.500000\n",
       "14      2018-10-26  48.250000\n",
       "15      2018-10-29  48.750000\n",
       "16      2018-10-30  49.250000\n",
       "17      2018-10-31  51.000000\n",
       "18      2018-11-01  49.500000\n",
       "19      2018-11-02  49.750000\n",
       "20      2018-11-05  49.250000\n",
       "21      2018-11-06  49.750000\n",
       "22      2018-11-07  50.250000\n",
       "23      2018-11-08  50.750000\n",
       "24      2018-11-09  49.750000\n",
       "25      2018-11-12  49.750000\n",
       "26      2018-11-13  50.000000\n",
       "27      2018-11-14  49.000000\n",
       "28      2018-11-15  48.750000\n",
       "29      2018-11-16  48.750000\n",
       "..             ...        ...\n",
       "61      2019-01-07  48.000000\n",
       "62      2019-01-08  48.000000\n",
       "63      2019-01-09  48.250000\n",
       "64      2019-01-10  48.750000\n",
       "65      2019-01-11  49.250000\n",
       "66      2019-01-14  48.000000\n",
       "67      2019-01-15  47.750000\n",
       "68      2019-01-16  47.500000\n",
       "69      2019-01-17  47.250000\n",
       "70      2019-01-18  48.250000\n",
       "71      2019-01-21  48.750000\n",
       "72      2019-01-22  49.500000\n",
       "73      2019-01-23  49.500000\n",
       "74      2019-01-24  49.000000\n",
       "75      2019-01-25  48.750000\n",
       "76      2019-01-28  48.750000\n",
       "77      2019-01-29  48.250000\n",
       "78      2019-01-30  48.250000\n",
       "79      2019-01-31  48.500000\n",
       "80      2019-02-01  49.500000\n",
       "81      2019-02-04  49.250000\n",
       "82      2019-02-05  49.250000\n",
       "83      2019-02-06  48.750000\n",
       "84      2019-02-07  49.000000\n",
       "85      2019-02-08  48.500000\n",
       "86      2019-02-11  48.250000\n",
       "87      2019-02-12  48.500000\n",
       "88      2019-02-13  49.000000\n",
       "89      2019-02-14  48.250000\n",
       "90      2019-02-15  48.250000\n",
       "\n",
       "[91 rows x 2 columns]"
      ]
     },
     "execution_count": 372,
     "metadata": {},
     "output_type": "execute_result"
    }
   ],
   "source": [
    "stocks = ['PTT.BK']\n",
    "\n",
    "# data 50 \n",
    "data = wb.DataReader(stocks, 'yahoo', start='2018-10-4')['Adj Close']\n",
    "data.reset_index(inplace=True,drop=False)\n",
    "data"
   ]
  },
  {
   "cell_type": "code",
   "execution_count": 373,
   "metadata": {},
   "outputs": [
    {
     "data": {
      "text/plain": [
       "[<matplotlib.lines.Line2D at 0x2b7570e7f28>]"
      ]
     },
     "execution_count": 373,
     "metadata": {},
     "output_type": "execute_result"
    },
    {
     "data": {
      "image/png": "[encoded data removed]",
      "text/plain": [
       "<Figure size 432x288 with 1 Axes>"
      ]
     },
     "metadata": {
      "needs_background": "light"
     },
     "output_type": "display_data"
    }
   ],
   "source": [
    "plt.plot(data['PTT.BK'])"
   ]
  },
  {
   "cell_type": "code",
   "execution_count": 374,
   "metadata": {},
   "outputs": [],
   "source": [
    "# splited 60% train data, 20% cross validation and 20% test data\n",
    "\n",
    "dataLength = len(data)\n",
    "trainRage = int(dataLength * 0.6)\n",
    "cvRage = int(dataLength * 0.8)\n",
    "testRage = dataLength\n",
    "\n",
    "trainData = data.iloc[0:trainRage]\n",
    "cvData = data.iloc[trainRage:cvRage]\n",
    "testData = data.iloc[cvRage:testRage]\n",
    "\n"
   ]
  },
  {
   "cell_type": "code",
   "execution_count": 375,
   "metadata": {},
   "outputs": [
    {
     "data": {
      "text/plain": [
       "[<matplotlib.lines.Line2D at 0x2b75715c978>]"
      ]
     },
     "execution_count": 375,
     "metadata": {},
     "output_type": "execute_result"
    },
    {
     "data": {
      "image/png": "[encoded data removed]",
      "text/plain": [
       "<Figure size 432x288 with 1 Axes>"
      ]
     },
     "metadata": {
      "needs_background": "light"
     },
     "output_type": "display_data"
    }
   ],
   "source": [
    "plt.plot(trainData['PTT.BK'])\n",
    "plt.plot(cvData['PTT.BK'])\n",
    "plt.plot(testData['PTT.BK'])"
   ]
  },
  {
   "cell_type": "code",
   "execution_count": 376,
   "metadata": {
    "scrolled": true
   },
   "outputs": [
    {
     "data": {
      "text/plain": [
       "(Symbols       Date     PTT.BK\n",
       " 0       2018-10-04  52.214817\n",
       " 1       2018-10-05  51.722225\n",
       " 2       2018-10-08  50.983334\n",
       " 3       2018-10-09  51.475925\n",
       " 4       2018-10-10  53.200001\n",
       " 5       2018-10-11  51.000000\n",
       " 6       2018-10-12  51.500000\n",
       " 7       2018-10-16  51.000000\n",
       " 8       2018-10-17  51.000000\n",
       " 9       2018-10-18  51.000000\n",
       " 10      2018-10-19  50.500000\n",
       " 11      2018-10-22  50.250000\n",
       " 12      2018-10-24  48.500000\n",
       " 13      2018-10-25  49.500000\n",
       " 14      2018-10-26  48.250000\n",
       " 15      2018-10-29  48.750000\n",
       " 16      2018-10-30  49.250000\n",
       " 17      2018-10-31  51.000000\n",
       " 18      2018-11-01  49.500000\n",
       " 19      2018-11-02  49.750000\n",
       " 20      2018-11-05  49.250000\n",
       " 21      2018-11-06  49.750000\n",
       " 22      2018-11-07  50.250000\n",
       " 23      2018-11-08  50.750000\n",
       " 24      2018-11-09  49.750000\n",
       " 25      2018-11-12  49.750000\n",
       " 26      2018-11-13  50.000000\n",
       " 27      2018-11-14  49.000000\n",
       " 28      2018-11-15  48.750000\n",
       " 29      2018-11-16  48.750000\n",
       " 30      2018-11-19  48.750000\n",
       " 31      2018-11-20  48.500000\n",
       " 32      2018-11-21  48.250000\n",
       " 33      2018-11-22  48.000000\n",
       " 34      2018-11-23  48.750000\n",
       " 35      2018-11-26  48.500000\n",
       " 36      2018-11-27  48.750000\n",
       " 37      2018-11-28  49.000000\n",
       " 38      2018-11-29  49.250000\n",
       " 39      2018-11-30  49.250000\n",
       " 40      2018-12-03  51.750000\n",
       " 41      2018-12-04  51.500000\n",
       " 42      2018-12-06  50.250000\n",
       " 43      2018-12-07  49.500000\n",
       " 44      2018-12-11  49.250000\n",
       " 45      2018-12-12  49.000000\n",
       " 46      2018-12-13  47.500000\n",
       " 47      2018-12-14  47.750000\n",
       " 48      2018-12-17  48.000000\n",
       " 49      2018-12-18  48.000000\n",
       " 50      2018-12-19  47.000000\n",
       " 51      2018-12-20  46.750000\n",
       " 52      2018-12-21  47.500000\n",
       " 53      2018-12-24  47.500000, Symbols       Date  PTT.BK\n",
       " 54      2018-12-25   45.25\n",
       " 55      2018-12-26   45.50\n",
       " 56      2018-12-27   45.50\n",
       " 57      2018-12-28   46.00\n",
       " 58      2019-01-02   46.25\n",
       " 59      2019-01-03   45.50\n",
       " 60      2019-01-04   46.75\n",
       " 61      2019-01-07   48.00\n",
       " 62      2019-01-08   48.00\n",
       " 63      2019-01-09   48.25\n",
       " 64      2019-01-10   48.75\n",
       " 65      2019-01-11   49.25\n",
       " 66      2019-01-14   48.00\n",
       " 67      2019-01-15   47.75\n",
       " 68      2019-01-16   47.50\n",
       " 69      2019-01-17   47.25\n",
       " 70      2019-01-18   48.25\n",
       " 71      2019-01-21   48.75, Symbols       Date  PTT.BK\n",
       " 72      2019-01-22   49.50\n",
       " 73      2019-01-23   49.50\n",
       " 74      2019-01-24   49.00\n",
       " 75      2019-01-25   48.75\n",
       " 76      2019-01-28   48.75\n",
       " 77      2019-01-29   48.25\n",
       " 78      2019-01-30   48.25\n",
       " 79      2019-01-31   48.50\n",
       " 80      2019-02-01   49.50\n",
       " 81      2019-02-04   49.25\n",
       " 82      2019-02-05   49.25\n",
       " 83      2019-02-06   48.75\n",
       " 84      2019-02-07   49.00\n",
       " 85      2019-02-08   48.50\n",
       " 86      2019-02-11   48.25\n",
       " 87      2019-02-12   48.50\n",
       " 88      2019-02-13   49.00\n",
       " 89      2019-02-14   48.25\n",
       " 90      2019-02-15   48.25)"
      ]
     },
     "execution_count": 376,
     "metadata": {},
     "output_type": "execute_result"
    }
   ],
   "source": [
    "trainData , cvData, testData"
   ]
  },
  {
   "cell_type": "code",
   "execution_count": 377,
   "metadata": {},
   "outputs": [
    {
     "data": {
      "text/plain": [
       "(array([[ 1,  0],\n",
       "        [ 1,  1],\n",
       "        [ 1,  2],\n",
       "        [ 1,  3],\n",
       "        [ 1,  4],\n",
       "        [ 1,  5],\n",
       "        [ 1,  6],\n",
       "        [ 1,  7],\n",
       "        [ 1,  8],\n",
       "        [ 1,  9],\n",
       "        [ 1, 10],\n",
       "        [ 1, 11],\n",
       "        [ 1, 12],\n",
       "        [ 1, 13],\n",
       "        [ 1, 14],\n",
       "        [ 1, 15],\n",
       "        [ 1, 16],\n",
       "        [ 1, 17],\n",
       "        [ 1, 18],\n",
       "        [ 1, 19],\n",
       "        [ 1, 20],\n",
       "        [ 1, 21],\n",
       "        [ 1, 22],\n",
       "        [ 1, 23],\n",
       "        [ 1, 24],\n",
       "        [ 1, 25],\n",
       "        [ 1, 26],\n",
       "        [ 1, 27],\n",
       "        [ 1, 28],\n",
       "        [ 1, 29],\n",
       "        [ 1, 30],\n",
       "        [ 1, 31],\n",
       "        [ 1, 32],\n",
       "        [ 1, 33],\n",
       "        [ 1, 34],\n",
       "        [ 1, 35],\n",
       "        [ 1, 36],\n",
       "        [ 1, 37],\n",
       "        [ 1, 38],\n",
       "        [ 1, 39],\n",
       "        [ 1, 40],\n",
       "        [ 1, 41],\n",
       "        [ 1, 42],\n",
       "        [ 1, 43],\n",
       "        [ 1, 44],\n",
       "        [ 1, 45],\n",
       "        [ 1, 46],\n",
       "        [ 1, 47],\n",
       "        [ 1, 48],\n",
       "        [ 1, 49],\n",
       "        [ 1, 50],\n",
       "        [ 1, 51],\n",
       "        [ 1, 52],\n",
       "        [ 1, 53]]),\n",
       " array([52.21481705, 51.72222519, 50.98333359, 51.47592545, 53.20000076,\n",
       "        51.        , 51.5       , 51.        , 51.        , 51.        ,\n",
       "        50.5       , 50.25      , 48.5       , 49.5       , 48.25      ,\n",
       "        48.75      , 49.25      , 51.        , 49.5       , 49.75      ,\n",
       "        49.25      , 49.75      , 50.25      , 50.75      , 49.75      ,\n",
       "        49.75      , 50.        , 49.        , 48.75      , 48.75      ,\n",
       "        48.75      , 48.5       , 48.25      , 48.        , 48.75      ,\n",
       "        48.5       , 48.75      , 49.        , 49.25      , 49.25      ,\n",
       "        51.75      , 51.5       , 50.25      , 49.5       , 49.25      ,\n",
       "        49.        , 47.5       , 47.75      , 48.        , 48.        ,\n",
       "        47.        , 46.75      , 47.5       , 47.5       ]))"
      ]
     },
     "execution_count": 377,
     "metadata": {},
     "output_type": "execute_result"
    }
   ],
   "source": [
    "# xTrain = []\n",
    "xTrain = np.ones((len(trainData),2),dtype=int)\n",
    "xTrain[:,1] = trainData.index.tolist()\n",
    "yTrain = np.array(trainData['PTT.BK'])\n",
    "xTrain, yTrain"
   ]
  },
  {
   "cell_type": "code",
   "execution_count": 378,
   "metadata": {},
   "outputs": [
    {
     "data": {
      "text/plain": [
       "Text(0.5,0,'date in train data')"
      ]
     },
     "execution_count": 378,
     "metadata": {},
     "output_type": "execute_result"
    },
    {
     "data": {
      "image/png": "[encoded data removed]",
      "text/plain": [
       "<Figure size 432x288 with 1 Axes>"
      ]
     },
     "metadata": {
      "needs_background": "light"
     },
     "output_type": "display_data"
    }
   ],
   "source": [
    "plt.plot(xTrain[:,1],yTrain)\n",
    "plt.ylabel('Price')\n",
    "plt.xlabel('date in train data')"
   ]
  },
  {
   "cell_type": "code",
   "execution_count": 379,
   "metadata": {},
   "outputs": [],
   "source": [
    "def calCost(theta,x,y):\n",
    "    m = len(y) \n",
    "    hypothesis = x.dot(theta)\n",
    "    return (1/2*m) * np.sum(np.square(hypothesis - y))\n",
    "\n",
    "def gradientDecent(x,y,theta,alpha=0.001,iteration=100):\n",
    "    m = len(y)\n",
    "    costHistory = np.zeros(iteration)\n",
    "    thetaHistory = np.zeros((iteration,2))\n",
    "    for i in range(iteration):\n",
    "        hypothesis = np.dot(x,theta)\n",
    "        theta = theta -(1/m)*alpha*(x.T.dot((hypothesis - y)))\n",
    "        thetaHistory[i,:] = theta.T\n",
    "        costHistory[i] = calCost(theta,x,y)\n",
    "    return theta, costHistory, thetaHistory\n",
    "    \n"
   ]
  },
  {
   "cell_type": "code",
   "execution_count": 380,
   "metadata": {},
   "outputs": [
    {
     "data": {
      "text/plain": [
       "Text(0.5,0,'hypothesis train data')"
      ]
     },
     "execution_count": 380,
     "metadata": {},
     "output_type": "execute_result"
    },
    {
     "data": {
      "image/png": "[encoded data removed]",
      "text/plain": [
       "<Figure size 432x288 with 1 Axes>"
      ]
     },
     "metadata": {
      "needs_background": "light"
     },
     "output_type": "display_data"
    }
   ],
   "source": [
    "# default learning rate = 0.001\n",
    "# default interation = 100\n",
    "it = 90000\n",
    "initTheta = np.array([1,1])\n",
    "\n",
    "finalTheta, costHistory, thetaHistory = gradientDecent(xTrain,yTrain,initTheta,iteration=it)\n",
    "plt.plot(finalTheta)\n",
    "plt.xlabel('hypothesis train data')"
   ]
  },
  {
   "cell_type": "code",
   "execution_count": 381,
   "metadata": {},
   "outputs": [
    {
     "data": {
      "text/plain": [
       "[<matplotlib.lines.Line2D at 0x2b7572f12e8>]"
      ]
     },
     "execution_count": 381,
     "metadata": {},
     "output_type": "execute_result"
    },
    {
     "data": {
      "image/png": "[encoded data removed]",
      "text/plain": [
       "<Figure size 432x288 with 1 Axes>"
      ]
     },
     "metadata": {
      "needs_background": "light"
     },
     "output_type": "display_data"
    }
   ],
   "source": [
    "hypoLine = []\n",
    "\n",
    "for i in range(len(xTrain)):\n",
    "    hypoLine.append(finalTheta[0] + finalTheta[1] * xTrain[i,1])\n",
    "plt.plot(hypoLine)\n",
    "plt.plot(yTrain)"
   ]
  },
  {
   "cell_type": "code",
   "execution_count": 382,
   "metadata": {},
   "outputs": [
    {
     "data": {
      "text/plain": [
       "(array([[ 1, 54],\n",
       "        [ 1, 55],\n",
       "        [ 1, 56],\n",
       "        [ 1, 57],\n",
       "        [ 1, 58],\n",
       "        [ 1, 59],\n",
       "        [ 1, 60],\n",
       "        [ 1, 61],\n",
       "        [ 1, 62],\n",
       "        [ 1, 63],\n",
       "        [ 1, 64],\n",
       "        [ 1, 65],\n",
       "        [ 1, 66],\n",
       "        [ 1, 67],\n",
       "        [ 1, 68],\n",
       "        [ 1, 69],\n",
       "        [ 1, 70],\n",
       "        [ 1, 71]]),\n",
       " array([45.25, 45.5 , 45.5 , 46.  , 46.25, 45.5 , 46.75, 48.  , 48.  ,\n",
       "        48.25, 48.75, 49.25, 48.  , 47.75, 47.5 , 47.25, 48.25, 48.75]))"
      ]
     },
     "execution_count": 382,
     "metadata": {},
     "output_type": "execute_result"
    }
   ],
   "source": [
    "# CV\n",
    "cvData.index.tolist()\n",
    "xCv = np.ones((len(cvData),2),dtype=int)\n",
    "xCv[:,1] = cvData.index.tolist()\n",
    "yCv = np.array(cvData['PTT.BK'])\n",
    "xCv, yCv"
   ]
  },
  {
   "cell_type": "code",
   "execution_count": 384,
   "metadata": {},
   "outputs": [
    {
     "data": {
      "text/plain": [
       "array([  199.17746078, 12472.2705012 ])"
      ]
     },
     "execution_count": 384,
     "metadata": {},
     "output_type": "execute_result"
    }
   ],
   "source": [
    "initTheta = np.array([1,1])\n",
    "finalThetaCV, costHistoryCV, thetaHistoryCV = gradientDecent(xCv,yCv,initTheta,iteration=10)\n",
    "finalThetaCV\n",
    "# hypoLine = []\n",
    "\n"
   ]
  },
  {
   "cell_type": "code",
   "execution_count": 388,
   "metadata": {},
   "outputs": [
    {
     "data": {
      "text/plain": [
       "array([[ 1, 54],\n",
       "       [ 1, 55],\n",
       "       [ 1, 56],\n",
       "       [ 1, 57],\n",
       "       [ 1, 58],\n",
       "       [ 1, 59],\n",
       "       [ 1, 60],\n",
       "       [ 1, 61],\n",
       "       [ 1, 62],\n",
       "       [ 1, 63],\n",
       "       [ 1, 64],\n",
       "       [ 1, 65],\n",
       "       [ 1, 66],\n",
       "       [ 1, 67],\n",
       "       [ 1, 68],\n",
       "       [ 1, 69],\n",
       "       [ 1, 70],\n",
       "       [ 1, 71]])"
      ]
     },
     "execution_count": 388,
     "metadata": {},
     "output_type": "execute_result"
    }
   ],
   "source": [
    "xCv\n",
    "# for i in range(len(xCv)):\n",
    "#     hypoLine.append(finalThetaCV[0] + finalThetaCV[1] * xCv[i,1])\n",
    "# plt.plot(hypoLine)\n",
    "# plt.plot(yCv)"
   ]
  }
 ],
 "metadata": {
  "kernelspec": {
   "display_name": "Python 3",
   "language": "python",
   "name": "python3"
  },
  "language_info": {
   "codemirror_mode": {
    "name": "ipython",
    "version": 3
   },
   "file_extension": ".py",
   "mimetype": "text/x-python",
   "name": "python",
   "nbconvert_exporter": "python",
   "pygments_lexer": "ipython3",
   "version": "3.7.0"
  }
 },
 "nbformat": 4,
 "nbformat_minor": 2
}
